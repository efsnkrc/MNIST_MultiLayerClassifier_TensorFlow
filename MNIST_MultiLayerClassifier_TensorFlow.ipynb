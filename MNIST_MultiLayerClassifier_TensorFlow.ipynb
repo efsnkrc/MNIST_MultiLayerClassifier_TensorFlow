{
 "cells": [
  {
   "cell_type": "code",
   "execution_count": 1,
   "metadata": {},
   "outputs": [],
   "source": [
    "import matplotlib.pyplot as plt\n",
    "import tensorflow as tf\n",
    "import numpy as np\n",
    "import math\n",
    "from sklearn.metrics import confusion_matrix"
   ]
  },
  {
   "cell_type": "code",
   "execution_count": 2,
   "metadata": {},
   "outputs": [
    {
     "name": "stdout",
     "output_type": "stream",
     "text": [
      "Extracting /data/MNIST/train-images-idx3-ubyte.gz\n",
      "Extracting /data/MNIST/train-labels-idx1-ubyte.gz\n",
      "Extracting /data/MNIST/t10k-images-idx3-ubyte.gz\n",
      "Extracting /data/MNIST/t10k-labels-idx1-ubyte.gz\n"
     ]
    }
   ],
   "source": [
    "from tensorflow.examples.tutorials.mnist import input_data\n",
    "data = input_data.read_data_sets(\"/data/MNIST/\", one_hot=True)"
   ]
  },
  {
   "cell_type": "code",
   "execution_count": 3,
   "metadata": {},
   "outputs": [],
   "source": [
    "img_size = 28\n",
    "img_size_flat = img_size * img_size\n",
    "img_shape = (img_size, img_size)\n",
    "num_classes = 10"
   ]
  },
  {
   "cell_type": "code",
   "execution_count": 4,
   "metadata": {},
   "outputs": [],
   "source": [
    "test_images = data.test.images\n",
    "data.train.cls = np.array([label.argmax() for label in data.train.labels])\n",
    "data.test.cls = np.array([label.argmax() for label in data.test.labels])"
   ]
  },
  {
   "cell_type": "code",
   "execution_count": 5,
   "metadata": {},
   "outputs": [],
   "source": [
    "#hyperparameters\n",
    "hidden_layers = 5\n",
    "batch_size = 128\n",
    "learning_rate = 0.01\n",
    "optimizer = tf.train.GradientDescentOptimizer(learning_rate)\n",
    "iterations = 1000000\n",
    "lambda_reg = 0.01"
   ]
  },
  {
   "cell_type": "code",
   "execution_count": 6,
   "metadata": {},
   "outputs": [],
   "source": [
    "x = tf.placeholder(tf.float32, [None, img_size_flat])\n",
    "decrease = math.floor((img_size_flat - num_classes) / (hidden_layers+1))\n",
    "\n",
    "w = {}\n",
    "b = {}\n",
    "\n",
    "w.update({'w1': tf.get_variable('w1', shape=[img_size_flat, img_size_flat-decrease],\n",
    "           initializer=tf.contrib.layers.xavier_initializer())})\n",
    "b.update({'b1': tf.get_variable('b1', shape=[img_size_flat - decrease],\n",
    "           initializer=tf.contrib.layers.xavier_initializer())})\n",
    "logits = tf.matmul(x, w['w1']) + b['b1']\n",
    "y_pred = tf.nn.tanh(logits)\n",
    "\n",
    "for i in range(2, hidden_layers+2):\n",
    "\n",
    "    if(i == hidden_layers+1):\n",
    "        w.update({'w'+str(i): tf.get_variable('w'+str(i), shape=[w['w'+str(i-1)].shape[1], num_classes],\n",
    "           initializer=tf.contrib.layers.xavier_initializer())})\n",
    "        b.update({'b'+str(i): tf.get_variable('b'+str(i), shape=[num_classes],\n",
    "           initializer=tf.contrib.layers.xavier_initializer())})\n",
    "        logits = tf.matmul(y_pred, w['w'+str(i)]) + b['b'+str(i)]\n",
    "        y_pred = tf.nn.softmax(logits)\n",
    "    else:\n",
    "        w.update({'w'+str(i): tf.get_variable('w'+str(i), shape=[w['w'+str(i-1)].shape[1], w['w'+str(i-1)].shape[1] - decrease],\n",
    "           initializer=tf.contrib.layers.xavier_initializer())})\n",
    "        b.update({'b'+str(i): tf.get_variable('b'+str(i), shape=[w['w'+str(i-1)].shape[1] - decrease],\n",
    "           initializer=tf.contrib.layers.xavier_initializer())})\n",
    "        logits = tf.matmul(y_pred, w['w'+str(i)]) + b['b'+str(i)]\n",
    "        y_pred = tf.nn.tanh(logits)\n",
    "\n",
    "y_true = tf.placeholder(tf.float32, [None, num_classes])\n",
    "y_true_cls = tf.placeholder(tf.int64, [None])\n",
    "\n",
    "y_pred_cls = tf.argmax(y_pred, axis = 1)"
   ]
  },
  {
   "cell_type": "code",
   "execution_count": 7,
   "metadata": {},
   "outputs": [],
   "source": [
    "correct_prediction = tf.equal(y_pred_cls, y_true_cls)\n",
    "accuracy = tf.reduce_mean(tf.cast(correct_prediction, tf.float32))"
   ]
  },
  {
   "cell_type": "code",
   "execution_count": 8,
   "metadata": {},
   "outputs": [],
   "source": [
    "#loss = tf.nn.softmax_cross_entropy_with_logits_v2(labels = y_true, logits = logits)\n",
    "#regularizers = 0\n",
    "#for i in range(1,hidden_layers+2):\n",
    "#    regularizers = regularizers + tf.nn.l2_loss(w['w'+str(i)])\n",
    "#cost = tf.reduce_mean(loss + lambda_reg * regularizers)\n",
    "\n",
    "cross_entropy = tf.nn.softmax_cross_entropy_with_logits_v2(labels = y_true, logits = logits)\n",
    "regularizers = 0\n",
    "for i in range(1,hidden_layers+2):\n",
    "    regularizers = regularizers + tf.nn.l2_loss(w['w'+str(i)])\n",
    "cost = tf.reduce_mean(cross_entropy + lambda_reg * regularizers)\n",
    "optimizer = optimizer.minimize(cost)"
   ]
  },
  {
   "cell_type": "code",
   "execution_count": 9,
   "metadata": {},
   "outputs": [],
   "source": [
    "session = tf.Session()\n",
    "session.run(tf.global_variables_initializer())"
   ]
  },
  {
   "cell_type": "code",
   "execution_count": 10,
   "metadata": {},
   "outputs": [],
   "source": [
    "def optimize(num_iterations):\n",
    "    for i in range(num_iterations):\n",
    "        x_batch, y_true_batch = data.train.next_batch(batch_size)\n",
    "        feed_dict_train = {x: x_batch, y_true: y_true_batch}\n",
    "        session.run(optimizer, feed_dict=feed_dict_train)"
   ]
  },
  {
   "cell_type": "code",
   "execution_count": 11,
   "metadata": {},
   "outputs": [],
   "source": [
    "feed_dict_train = {x: data.train.images,\n",
    "             y_true: data.train.labels,\n",
    "             y_true_cls: data.train.cls}\n",
    "feed_dict_test = {x: data.test.images,\n",
    "             y_true: data.test.labels,\n",
    "             y_true_cls: data.test.cls}"
   ]
  },
  {
   "cell_type": "code",
   "execution_count": 12,
   "metadata": {},
   "outputs": [],
   "source": [
    "def print_accuracy():\n",
    "    acc = session.run(accuracy, feed_dict=feed_dict_train)\n",
    "    print(\"Accuracy on train-set: {0:.1%}\".format(acc))\n",
    "    acc = session.run(accuracy, feed_dict=feed_dict_test)\n",
    "    print(\"Accuracy on test-set: {0:.1%}\".format(acc))"
   ]
  },
  {
   "cell_type": "code",
   "execution_count": 13,
   "metadata": {},
   "outputs": [],
   "source": [
    "def plot_images(images, cls_true, cls_pred=None):\n",
    "    assert len(images) == len(cls_true) == 25\n",
    "    \n",
    "    fig, axes = plt.subplots(5, 5)\n",
    "    fig.subplots_adjust(hspace=0.8, wspace=0.3)\n",
    "    \n",
    "    for i, ax in enumerate(axes.flat):\n",
    "        ax.imshow(images[i].reshape(img_shape), cmap='binary')\n",
    "        \n",
    "        xlabel = \"T:{0}, P:{1}\".format(cls_true[i], cls_pred[i])\n",
    "        \n",
    "        ax.set_xlabel(xlabel)\n",
    "    \n",
    "        ax.set_xticks([])\n",
    "        ax.set_yticks([])\n",
    "        \n",
    "    plt.show()"
   ]
  },
  {
   "cell_type": "code",
   "execution_count": 14,
   "metadata": {},
   "outputs": [],
   "source": [
    "def plot_example_outputs():\n",
    "    correct, cls_pred = session.run([correct_prediction, y_pred_cls],\n",
    "                                    feed_dict=feed_dict_test)\n",
    "\n",
    "    images = data.test.images[correct]\n",
    "    cls_true = data.test.cls[correct]\n",
    "    \n",
    "    print(\"Correct Output Examples\")\n",
    "    plot_images(images=images[0:25],\n",
    "                cls_true=cls_true[0:25],\n",
    "                cls_pred=cls_pred[0:25])\n",
    "\n",
    "    incorrect = (correct == False)\n",
    "    \n",
    "    images = data.test.images[incorrect]\n",
    "    cls_pred = cls_pred[incorrect]\n",
    "    cls_true = data.test.cls[incorrect]\n",
    "    \n",
    "    print(\"Incorrect Output Examples\")\n",
    "    plot_images(images=images[0:25],\n",
    "                cls_true=cls_true[0:25],\n",
    "                cls_pred=cls_pred[0:25])"
   ]
  },
  {
   "cell_type": "code",
   "execution_count": null,
   "metadata": {},
   "outputs": [],
   "source": [
    "optimize(iterations)\n",
    "cls_true = data.test.cls\n",
    "cls_pred = session.run(y_pred_cls, feed_dict=feed_dict_test)\n",
    "print_accuracy()\n",
    "plot_example_outputs()"
   ]
  }
 ],
 "metadata": {
  "kernelspec": {
   "display_name": "Python 3",
   "language": "python",
   "name": "python3"
  },
  "language_info": {
   "codemirror_mode": {
    "name": "ipython",
    "version": 3
   },
   "file_extension": ".py",
   "mimetype": "text/x-python",
   "name": "python",
   "nbconvert_exporter": "python",
   "pygments_lexer": "ipython3",
   "version": "3.6.4"
  }
 },
 "nbformat": 4,
 "nbformat_minor": 2
}
